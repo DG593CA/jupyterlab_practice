{
 "cells": [
  {
   "cell_type": "markdown",
   "id": "f243c387-beb1-403e-ad10-0ea829d4f3a2",
   "metadata": {},
   "source": [
    "#Danny Gomezjurado\n",
    "Notebook for assignment 7"
   ]
  },
  {
   "cell_type": "code",
   "execution_count": 1,
   "id": "309c6ed3-f418-4d51-bc9e-a7ad4f9789c3",
   "metadata": {
    "tags": []
   },
   "outputs": [
    {
     "name": "stdout",
     "output_type": "stream",
     "text": [
      "5.0\n"
     ]
    }
   ],
   "source": [
    "def compute_mean(values):\n",
    "    mean = sum(values) / len(values)\n",
    "    print(mean)\n",
    "compute_mean([2, 4, 6, 8])"
   ]
  },
  {
   "cell_type": "markdown",
   "id": "77791422-adf6-43cd-8bb5-40371dfce008",
   "metadata": {},
   "source": [
    "This Python code calculates the mean (average) of a list of values using the formula, in the LaTeX equations, \\bar{x} represents the mean,n is the number of values in the list, and x_irepresents each individual value in the list.\n",
    "\n",
    "1. Option1\n",
    "\n",
    "\\begin{equation}\n",
    "\\bar{x}=\\frac{x_1+x_2+\\cdots+x_n}{n}=\\frac{1}{n}\\left(\\sum_{i=1}^n x_i\\right)\n",
    "\\end{equation}\n",
    "\n",
    "2. Option 2 \n",
    "\n",
    "$\\bar{x}=\\frac{x_1+x_2+\\cdots+x_n}{n}=\\frac{1}{n}\\left(\\sum_{i=1}^n x_i\\right)$\n",
    "\n",
    "\n"
   ]
  },
  {
   "cell_type": "code",
   "execution_count": null,
   "id": "13712ca5-1989-4820-be7d-7f5081b4e6f6",
   "metadata": {},
   "outputs": [],
   "source": []
  },
  {
   "cell_type": "code",
   "execution_count": null,
   "id": "f9900cfc-cd2e-41b8-968e-88a1d1011649",
   "metadata": {},
   "outputs": [],
   "source": []
  }
 ],
 "metadata": {
  "kernelspec": {
   "display_name": "Python 3 (ipykernel)",
   "language": "python",
   "name": "python3"
  },
  "language_info": {
   "codemirror_mode": {
    "name": "ipython",
    "version": 3
   },
   "file_extension": ".py",
   "mimetype": "text/x-python",
   "name": "python",
   "nbconvert_exporter": "python",
   "pygments_lexer": "ipython3",
   "version": "3.11.5"
  }
 },
 "nbformat": 4,
 "nbformat_minor": 5
}
