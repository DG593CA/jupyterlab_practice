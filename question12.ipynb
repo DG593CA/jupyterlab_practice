{
 "cells": [
  {
   "cell_type": "markdown",
   "id": "7c73ce34-ac87-4e05-ad52-ee6da25e4d18",
   "metadata": {},
   "source": [
    "We are currently working in the following directory:"
   ]
  },
  {
   "cell_type": "code",
   "execution_count": 1,
   "id": "46812955-acd0-4af2-b4ce-40d5341e7b69",
   "metadata": {
    "tags": []
   },
   "outputs": [
    {
     "name": "stdout",
     "output_type": "stream",
     "text": [
      "/Users/macbookpro/Desktop/UBC/Assignment_7/student\n"
     ]
    }
   ],
   "source": [
    "!pwd"
   ]
  },
  {
   "cell_type": "markdown",
   "id": "37d7b5dd-d83a-4f8f-92f6-d1957fa4a271",
   "metadata": {},
   "source": [
    "To time how long it takes to run a Python cell, we could use the timeit command inside a cell as is shown below: Followed by the proper use of the timeit command to time the following loop:\n",
    ">```\n",
    ">for i in range(1_000_000):\n",
    ">    i**2\n",
    ">```"
   ]
  },
  {
   "cell_type": "code",
   "execution_count": 2,
   "id": "3a3247b9-7cd3-43b1-8d54-b15e4ed8b6dd",
   "metadata": {
    "tags": []
   },
   "outputs": [
    {
     "name": "stdout",
     "output_type": "stream",
     "text": [
      "[NbConvertApp] Converting notebook question12.ipynb to html\n",
      "[NbConvertApp] Writing 270184 bytes to output-question12.html\n"
     ]
    }
   ],
   "source": [
    "!jupyter nbconvert question12.ipynb --to html --output=output-question12.html --no-input"
   ]
  },
  {
   "cell_type": "code",
   "execution_count": null,
   "id": "228401ae-3e57-427c-a450-bfda18c660b2",
   "metadata": {},
   "outputs": [],
   "source": []
  }
 ],
 "metadata": {
  "kernelspec": {
   "display_name": "Python 3 (ipykernel)",
   "language": "python",
   "name": "python3"
  },
  "language_info": {
   "codemirror_mode": {
    "name": "ipython",
    "version": 3
   },
   "file_extension": ".py",
   "mimetype": "text/x-python",
   "name": "python",
   "nbconvert_exporter": "python",
   "pygments_lexer": "ipython3",
   "version": "3.11.5"
  }
 },
 "nbformat": 4,
 "nbformat_minor": 5
}
